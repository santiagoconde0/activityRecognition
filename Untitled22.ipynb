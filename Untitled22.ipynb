{
 "cells": [
  {
   "cell_type": "markdown",
   "metadata": {},
   "source": [
    "# Practical Session 2: Transfer Learning for Activity Recognition "
   ]
  },
  {
   "cell_type": "markdown",
   "metadata": {},
   "source": [
    "`Librerires`"
   ]
  },
  {
   "cell_type": "code",
   "execution_count": 194,
   "metadata": {},
   "outputs": [],
   "source": [
    "import seaborn as sns\n",
    "import pandas as pd\n",
    "import matplotlib.pyplot as plt\n",
    "import numpy as np\n",
    "from scipy.stats import mode\n",
    "from sklearn import linear_model\n",
    "from sklearn.model_selection import train_test_split\n",
    "from sklearn.neighbors import KNeighborsClassifier\n",
    "from sklearn.naive_bayes import GaussianNB\n",
    "from sklearn.metrics import classification_report\n",
    "from sklearn.metrics import confusion_matrix\n",
    "from sklearn.metrics import accuracy_score\n",
    "from sklearn.utils.multiclass import unique_labels\n",
    "from sklearn.gaussian_process.kernels import RBF\n",
    "from sklearn.preprocessing import StandardScaler\n",
    "from sklearn.ensemble import RandomForestClassifier"
   ]
  },
  {
   "cell_type": "markdown",
   "metadata": {},
   "source": [
    "`Data and files`"
   ]
  },
  {
   "cell_type": "code",
   "execution_count": 195,
   "metadata": {},
   "outputs": [],
   "source": [
    "path = 'C:\\\\Users\\\\s7277028\\\\Documents\\\\ARSSD\\\\Practicas\\\\Practica1\\\\OpportunityUCIDataset\\\\dataset\\\\' \n",
    "header_path = 'C:\\\\Users\\\\s7277028\\\\Documents\\\\ARSSD\\\\Practicas\\\\Practica1\\\\header.csv' \n",
    "header=pd.read_csv(header_path, names=['column',''])['column'].values\n",
    "users = range(1,5)\n",
    "trials = range(1,7)\n",
    "all_data = pd.DataFrame()"
   ]
  },
  {
   "cell_type": "markdown",
   "metadata": {},
   "source": [
    "`Read Data`"
   ]
  },
  {
   "cell_type": "code",
   "execution_count": 196,
   "metadata": {},
   "outputs": [
    {
     "name": "stderr",
     "output_type": "stream",
     "text": [
      "C:\\Users\\s7277028\\AppData\\Local\\Continuum\\anaconda3\\lib\\site-packages\\ipykernel_launcher.py:45: FutureWarning: Currently, 'apply' passes the values as ndarrays to the applied function. In the future, this will change to passing it as Series objects. You need to specify 'raw=True' to keep the current behaviour, and you can pass 'raw=False' to silence this warning\n"
     ]
    }
   ],
   "source": [
    "for user in users:\n",
    "    for trial in trials:\n",
    "        if trial==6:\n",
    "            filePath= path+'S'+str(user)+'-Drill.dat'\n",
    "        else:\n",
    "            filePath = path+'S'+str(user)+'-ADL'+str(trial)+'.dat'\n",
    "        sadl1 = pd.read_csv(filePath, sep=' ', header=None)\n",
    "        data = sadl1.iloc[:, :243]\n",
    "        data.columns = header\n",
    "        data=data[data.columns[np.r_[0,50:53,76:79]]]\n",
    "        labels = sadl1.iloc[:,243]\n",
    "        #find and remove rows with all nulls\n",
    "        idx=data.index[data.isnull().all(1)]\n",
    "        data = data[~data.index.isin(idx)]\n",
    "        labels = labels[~labels.index.isin(idx)]\n",
    "        \n",
    "        #fill missing values\n",
    "        data = data.fillna(method='ffill',axis=1)\n",
    "        data['user'] = user\n",
    "        data['trial'] = trial\n",
    "        \n",
    "        #Pre-processing: filtering\n",
    "        #only data columns\n",
    "        columns = data.columns[~data.columns.isin(['user', 'trial', 'MILLISEC'])]\n",
    "        filtered_data = data[columns].rolling(11).median()\n",
    "        filtered_data['MILLISEC'] = data.MILLISEC\n",
    "        \n",
    "        #separate train and test'\n",
    "\n",
    "        #segmentation\n",
    "\n",
    "        filtered_data['time']=pd.to_datetime(data.MILLISEC, unit='ms')\n",
    "        filtered_data.index=filtered_data.time\n",
    "        keep = filtered_data.time.dt.microsecond/1000 %500\n",
    "        keep = keep - keep.shift() < 0\n",
    "        \n",
    "        #Feature extraction - only for first 132 columns\n",
    "        means = filtered_data[columns].rolling('1S').mean()[keep]\n",
    "        means.columns = [str(col) + '_mean' for col in means.columns]\n",
    "        variances = filtered_data[columns].rolling('1S').var()[keep]\n",
    "        variances.columns = [str(col) + '_var' for col in variances.columns]\n",
    "\n",
    "        #talk about apply function\n",
    "        labels.index = filtered_data.time\n",
    "        mode_labels = labels.rolling('1S').apply(lambda x:mode(x)[0])[keep]\n",
    "\n",
    "        #all features\n",
    "        all_features = pd.concat([means, variances], axis=1)\n",
    "        all_features['label'] = mode_labels \n",
    "        all_features['user'] = user\n",
    "        all_features['trial'] = trial\n",
    "        all_data = pd.concat([all_data, all_features])"
   ]
  },
  {
   "cell_type": "code",
   "execution_count": 197,
   "metadata": {},
   "outputs": [
    {
     "data": {
      "text/plain": [
       "Index(['InertialMeasurementUnit_RUA_accX_mean',\n",
       "       'InertialMeasurementUnit_RUA_accY_mean',\n",
       "       'InertialMeasurementUnit_RUA_accZ_mean',\n",
       "       'InertialMeasurementUnit_LUA_accX_mean',\n",
       "       'InertialMeasurementUnit_LUA_accY_mean',\n",
       "       'InertialMeasurementUnit_LUA_accZ_mean',\n",
       "       'InertialMeasurementUnit_RUA_accX_var',\n",
       "       'InertialMeasurementUnit_RUA_accY_var',\n",
       "       'InertialMeasurementUnit_RUA_accZ_var',\n",
       "       'InertialMeasurementUnit_LUA_accX_var',\n",
       "       'InertialMeasurementUnit_LUA_accY_var',\n",
       "       'InertialMeasurementUnit_LUA_accZ_var', 'label', 'user', 'trial'],\n",
       "      dtype='object')"
      ]
     },
     "execution_count": 197,
     "metadata": {},
     "output_type": "execute_result"
    }
   ],
   "source": [
    "all_data.columns"
   ]
  },
  {
   "cell_type": "markdown",
   "metadata": {},
   "source": [
    "## Using the data from trials 1, 2, 3 and Drill Session as training data and the data from trials 4 and 5 as test perform two initial evaluations:"
   ]
  },
  {
   "cell_type": "code",
   "execution_count": 198,
   "metadata": {},
   "outputs": [
    {
     "name": "stdout",
     "output_type": "stream",
     "text": [
      "users:  {1: None, 2: None, 3: None, 4: None} | trial:  {4: None, 5: None}\n",
      "users:  {1: None, 2: None, 3: None, 4: None} | trial:  {1: None, 2: None, 3: None, 6: None}\n"
     ]
    }
   ],
   "source": [
    "#Data from trials 1,2,3 and drill with all users\n",
    "all_data_trials_1236 = all_data[all_data.trial.isin(['1','2','3','6'])]\n",
    "# #Data from user 4 with all trials\n",
    "all_data_trials_45 = all_data[all_data.trial.isin(['4','5'])]\n",
    "print(\"users: \", dict.fromkeys(all_data_trials_45.user),\"| trial: \",dict.fromkeys(all_data_trials_45.trial))\n",
    "print(\"users: \",dict.fromkeys(all_data_trials_1236.user),\"| trial: \",dict.fromkeys(all_data_trials_1236.trial))"
   ]
  },
  {
   "cell_type": "markdown",
   "metadata": {},
   "source": [
    "`sensors`"
   ]
  },
  {
   "cell_type": "code",
   "execution_count": 199,
   "metadata": {},
   "outputs": [],
   "source": [
    "rua_sensors = ['InertialMeasurementUnit_RUA_accX_mean',\n",
    "       'InertialMeasurementUnit_RUA_accX_var',\n",
    "       'InertialMeasurementUnit_RUA_accY_mean',\n",
    "       'InertialMeasurementUnit_RUA_accY_var',\n",
    "       'InertialMeasurementUnit_RUA_accZ_mean',\n",
    "       'InertialMeasurementUnit_RUA_accZ_var','label']\n",
    "lua_sensors = ['InertialMeasurementUnit_LUA_accX_mean',\n",
    "       'InertialMeasurementUnit_LUA_accX_var',\n",
    "       'InertialMeasurementUnit_LUA_accY_mean',\n",
    "       'InertialMeasurementUnit_LUA_accY_var',\n",
    "       'InertialMeasurementUnit_LUA_accZ_mean',\n",
    "       'InertialMeasurementUnit_LUA_accZ_var','label']"
   ]
  },
  {
   "cell_type": "markdown",
   "metadata": {},
   "source": [
    " ## Original and transfer tasks"
   ]
  },
  {
   "cell_type": "code",
   "execution_count": 200,
   "metadata": {},
   "outputs": [],
   "source": [
    "original_task = all_data[lua_sensors]\n",
    "original_task_trials_1236 = all_data_trials_1236[lua_sensors]\n",
    "transfer_task = all_data[rua_sensors]\n",
    "transfer_task_trials_1236 = all_data_trials_1236[rua_sensors]"
   ]
  },
  {
   "cell_type": "code",
   "execution_count": 201,
   "metadata": {},
   "outputs": [
    {
     "name": "stdout",
     "output_type": "stream",
     "text": [
      "StandardScaler(copy=True, with_mean=True, with_std=True)\n"
     ]
    }
   ],
   "source": [
    "scaler = StandardScaler()\n",
    "print(scaler.fit(original_task_trials_1236))\n",
    "colunmns = original_task_trials_1236.columns\n",
    "original_task_trials_1236 = scaler.transform(original_task_trials_1236)"
   ]
  },
  {
   "cell_type": "code",
   "execution_count": 202,
   "metadata": {},
   "outputs": [],
   "source": [
    "type(original_task_trials_1236)\n",
    "original_task_trials_1236 = pd.DataFrame(original_task_trials_1236, columns=colunmns)"
   ]
  },
  {
   "cell_type": "code",
   "execution_count": 203,
   "metadata": {},
   "outputs": [
    {
     "name": "stdout",
     "output_type": "stream",
     "text": [
      "StandardScaler(copy=True, with_mean=True, with_std=True)\n",
      "[2.39607113e+04 2.46833914e+08 2.49231982e+04 2.46506781e+08\n",
      " 2.50088188e+04 2.46440479e+08 1.60095006e+00]\n",
      "[1.82551143e+05 1.17054866e+10 1.82421461e+05 1.16927436e+10\n",
      " 1.82409816e+05 1.16899279e+10 1.32615246e+00]\n"
     ]
    }
   ],
   "source": [
    "scaler = StandardScaler()\n",
    "print(scaler.fit(transfer_task_trials_1236))\n",
    "transfer_mean = scaler.mean_\n",
    "print(transfer_mean)\n",
    "transfer_std = scaler.scale_\n",
    "print(transfer_std)"
   ]
  },
  {
   "cell_type": "code",
   "execution_count": 204,
   "metadata": {},
   "outputs": [
    {
     "data": {
      "text/html": [
       "<div>\n",
       "<style scoped>\n",
       "    .dataframe tbody tr th:only-of-type {\n",
       "        vertical-align: middle;\n",
       "    }\n",
       "\n",
       "    .dataframe tbody tr th {\n",
       "        vertical-align: top;\n",
       "    }\n",
       "\n",
       "    .dataframe thead th {\n",
       "        text-align: right;\n",
       "    }\n",
       "</style>\n",
       "<table border=\"1\" class=\"dataframe\">\n",
       "  <thead>\n",
       "    <tr style=\"text-align: right;\">\n",
       "      <th></th>\n",
       "      <th>InertialMeasurementUnit_LUA_accX_mean</th>\n",
       "      <th>InertialMeasurementUnit_LUA_accX_var</th>\n",
       "      <th>InertialMeasurementUnit_LUA_accY_mean</th>\n",
       "      <th>InertialMeasurementUnit_LUA_accY_var</th>\n",
       "      <th>InertialMeasurementUnit_LUA_accZ_mean</th>\n",
       "      <th>InertialMeasurementUnit_LUA_accZ_var</th>\n",
       "      <th>label</th>\n",
       "    </tr>\n",
       "  </thead>\n",
       "  <tbody>\n",
       "    <tr>\n",
       "      <th>0</th>\n",
       "      <td>-995.043499</td>\n",
       "      <td>4426.614360</td>\n",
       "      <td>383.625642</td>\n",
       "      <td>-2730.407356</td>\n",
       "      <td>-28.091734</td>\n",
       "      <td>14567.332280</td>\n",
       "      <td>0.0</td>\n",
       "    </tr>\n",
       "    <tr>\n",
       "      <th>1</th>\n",
       "      <td>-978.234123</td>\n",
       "      <td>4591.476925</td>\n",
       "      <td>381.602260</td>\n",
       "      <td>-2821.232997</td>\n",
       "      <td>-60.567574</td>\n",
       "      <td>14846.070014</td>\n",
       "      <td>0.0</td>\n",
       "    </tr>\n",
       "    <tr>\n",
       "      <th>2</th>\n",
       "      <td>-974.877010</td>\n",
       "      <td>4562.786170</td>\n",
       "      <td>339.001720</td>\n",
       "      <td>505.612110</td>\n",
       "      <td>-74.624566</td>\n",
       "      <td>14751.422064</td>\n",
       "      <td>0.0</td>\n",
       "    </tr>\n",
       "    <tr>\n",
       "      <th>3</th>\n",
       "      <td>-981.810282</td>\n",
       "      <td>4686.276320</td>\n",
       "      <td>230.291315</td>\n",
       "      <td>4192.531813</td>\n",
       "      <td>-42.991573</td>\n",
       "      <td>15861.230425</td>\n",
       "      <td>0.0</td>\n",
       "    </tr>\n",
       "    <tr>\n",
       "      <th>4</th>\n",
       "      <td>-968.743730</td>\n",
       "      <td>7138.387294</td>\n",
       "      <td>72.457936</td>\n",
       "      <td>12591.761643</td>\n",
       "      <td>12.074500</td>\n",
       "      <td>15785.839262</td>\n",
       "      <td>0.0</td>\n",
       "    </tr>\n",
       "  </tbody>\n",
       "</table>\n",
       "</div>"
      ],
      "text/plain": [
       "   InertialMeasurementUnit_LUA_accX_mean  \\\n",
       "0                            -995.043499   \n",
       "1                            -978.234123   \n",
       "2                            -974.877010   \n",
       "3                            -981.810282   \n",
       "4                            -968.743730   \n",
       "\n",
       "   InertialMeasurementUnit_LUA_accX_var  \\\n",
       "0                           4426.614360   \n",
       "1                           4591.476925   \n",
       "2                           4562.786170   \n",
       "3                           4686.276320   \n",
       "4                           7138.387294   \n",
       "\n",
       "   InertialMeasurementUnit_LUA_accY_mean  \\\n",
       "0                             383.625642   \n",
       "1                             381.602260   \n",
       "2                             339.001720   \n",
       "3                             230.291315   \n",
       "4                              72.457936   \n",
       "\n",
       "   InertialMeasurementUnit_LUA_accY_var  \\\n",
       "0                          -2730.407356   \n",
       "1                          -2821.232997   \n",
       "2                            505.612110   \n",
       "3                           4192.531813   \n",
       "4                          12591.761643   \n",
       "\n",
       "   InertialMeasurementUnit_LUA_accZ_mean  \\\n",
       "0                             -28.091734   \n",
       "1                             -60.567574   \n",
       "2                             -74.624566   \n",
       "3                             -42.991573   \n",
       "4                              12.074500   \n",
       "\n",
       "   InertialMeasurementUnit_LUA_accZ_var  label  \n",
       "0                          14567.332280    0.0  \n",
       "1                          14846.070014    0.0  \n",
       "2                          14751.422064    0.0  \n",
       "3                          15861.230425    0.0  \n",
       "4                          15785.839262    0.0  "
      ]
     },
     "execution_count": 204,
     "metadata": {},
     "output_type": "execute_result"
    }
   ],
   "source": [
    "for name_column, std, mean in zip(original_task_trials_1236.columns.values,transfer_std,transfer_mean):\n",
    "    serie = original_task_trials_1236[name_column]\n",
    "    serie = serie*std + mean\n",
    "    original_task_trials_1236[name_column] = serie\n",
    "\n",
    "original_task_trials_1236.head()"
   ]
  },
  {
   "cell_type": "code",
   "execution_count": 205,
   "metadata": {},
   "outputs": [
    {
     "data": {
      "text/plain": [
       "RandomForestClassifier(bootstrap=True, class_weight=None, criterion='gini',\n",
       "            max_depth=5, max_features=1, max_leaf_nodes=None,\n",
       "            min_impurity_decrease=0.0, min_impurity_split=None,\n",
       "            min_samples_leaf=1, min_samples_split=2,\n",
       "            min_weight_fraction_leaf=0.0, n_estimators=10, n_jobs=None,\n",
       "            oob_score=False, random_state=1, verbose=0, warm_start=False)"
      ]
     },
     "execution_count": 205,
     "metadata": {},
     "output_type": "execute_result"
    }
   ],
   "source": [
    "classifier =RandomForestClassifier(max_depth=5, n_estimators=10, max_features=1, random_state= 1)\n",
    "classifier.fit(original_task_trials_1236, all_data_trials_1236['label'])"
   ]
  },
  {
   "cell_type": "code",
   "execution_count": 206,
   "metadata": {},
   "outputs": [
    {
     "name": "stdout",
     "output_type": "stream",
     "text": [
      "Score transfer 0.7966101694915254\n",
      "              precision    recall  f1-score   support\n",
      "\n",
      "         0.0       1.00      0.77      0.87      3597\n",
      "         1.0       0.68      1.00      0.81      4990\n",
      "         2.0       0.96      0.54      0.69      3506\n",
      "         4.0       0.78      0.93      0.85      2909\n",
      "         5.0       0.99      0.13      0.23       633\n",
      "\n",
      "   micro avg       0.80      0.80      0.80     15635\n",
      "   macro avg       0.88      0.67      0.69     15635\n",
      "weighted avg       0.85      0.80      0.78     15635\n",
      "\n"
     ]
    }
   ],
   "source": [
    "X_test = all_data_trials_45[rua_sensors]\n",
    "y_test = all_data_trials_45['label']\n",
    "score = classifier.score(X_test, y_test)\n",
    "print(\"Score transfer\", score)\n",
    "y_pred = classifier.predict(X_test)\n",
    "print(classification_report(y_test, y_pred))"
   ]
  },
  {
   "cell_type": "code",
   "execution_count": 207,
   "metadata": {},
   "outputs": [],
   "source": [
    "train_data = all_data_trials_1236[lua_sensors]\n",
    "test_data = all_data_trials_45[rua_sensors]\n",
    "\n",
    "# Dedife train data\n",
    "X_train = train_data.loc[:,~train_data.columns.isin(['user', 'trial','label'])]\n",
    "y_train = train_data.loc[:,train_data.columns.isin(['label'])]\n",
    "\n",
    "#Define test data\n",
    "X_test = test_data.loc[:,~test_data.columns.isin(['user', 'trial','label'])]\n",
    "y_test = test_data.loc[:,test_data.columns.isin(['label'])]"
   ]
  },
  {
   "cell_type": "code",
   "execution_count": 208,
   "metadata": {},
   "outputs": [
    {
     "name": "stderr",
     "output_type": "stream",
     "text": [
      "C:\\Users\\s7277028\\AppData\\Local\\Continuum\\anaconda3\\lib\\site-packages\\ipykernel_launcher.py:2: DataConversionWarning: A column-vector y was passed when a 1d array was expected. Please change the shape of y to (n_samples,), for example using ravel().\n",
      "  \n"
     ]
    },
    {
     "name": "stdout",
     "output_type": "stream",
     "text": [
      "Score No transfer with LUA and RUA: 0.3706427886152862\n",
      "              precision    recall  f1-score   support\n",
      "\n",
      "         0.0       0.85      0.05      0.10      3597\n",
      "         1.0       0.34      0.66      0.45      4990\n",
      "         2.0       0.44      0.63      0.52      3506\n",
      "         4.0       0.04      0.01      0.01      2909\n",
      "         5.0       1.00      0.08      0.14       633\n",
      "\n",
      "   micro avg       0.37      0.37      0.37     15635\n",
      "   macro avg       0.53      0.29      0.25     15635\n",
      "weighted avg       0.45      0.37      0.29     15635\n",
      "\n"
     ]
    }
   ],
   "source": [
    "classifier =RandomForestClassifier(max_depth=5, n_estimators=10, max_features=1)\n",
    "classifier.fit(X_train, y_train)\n",
    "score = classifier.score(X_test, y_test)\n",
    "print(\"Score No transfer with LUA and RUA:\", score)\n",
    "y_pred = classifier.predict(X_test)\n",
    "print(classification_report(y_test, y_pred))"
   ]
  },
  {
   "cell_type": "code",
   "execution_count": 209,
   "metadata": {},
   "outputs": [
    {
     "name": "stderr",
     "output_type": "stream",
     "text": [
      "C:\\Users\\s7277028\\AppData\\Local\\Continuum\\anaconda3\\lib\\site-packages\\ipykernel_launcher.py:12: DataConversionWarning: A column-vector y was passed when a 1d array was expected. Please change the shape of y to (n_samples,), for example using ravel().\n",
      "  if sys.path[0] == '':\n"
     ]
    },
    {
     "name": "stdout",
     "output_type": "stream",
     "text": [
      "Score No transfer with RUA in both: 0.5294531499840103\n",
      "              precision    recall  f1-score   support\n",
      "\n",
      "         0.0       0.66      0.18      0.28      3597\n",
      "         1.0       0.44      0.83      0.58      4990\n",
      "         2.0       0.52      0.32      0.39      3506\n",
      "         4.0       0.74      0.66      0.70      2909\n",
      "         5.0       0.91      0.71      0.80       633\n",
      "\n",
      "   micro avg       0.53      0.53      0.53     15635\n",
      "   macro avg       0.65      0.54      0.55     15635\n",
      "weighted avg       0.58      0.53      0.50     15635\n",
      "\n"
     ]
    }
   ],
   "source": [
    "train_data = all_data_trials_1236[rua_sensors]\n",
    "test_data = all_data_trials_45[rua_sensors]\n",
    "\n",
    "# Dedife train data\n",
    "X_train = train_data.loc[:,~train_data.columns.isin(['user', 'trial','label'])]\n",
    "y_train = train_data.loc[:,train_data.columns.isin(['label'])]\n",
    "\n",
    "#Define test data\n",
    "X_test = test_data.loc[:,~test_data.columns.isin(['user', 'trial','label'])]\n",
    "y_test = test_data.loc[:,test_data.columns.isin(['label'])]\n",
    "classifier =RandomForestClassifier(max_depth=5, n_estimators=10, max_features=1)\n",
    "classifier.fit(X_train, y_train)\n",
    "score = classifier.score(X_test, y_test)\n",
    "print(\"Score No transfer with RUA in both:\", score)\n",
    "y_pred = classifier.predict(X_test)\n",
    "print(classification_report(y_test, y_pred))"
   ]
  },
  {
   "cell_type": "code",
   "execution_count": 210,
   "metadata": {},
   "outputs": [
    {
     "name": "stdout",
     "output_type": "stream",
     "text": [
      "0.0\n",
      "1.0\n",
      "2.0\n",
      "5.0\n",
      "4.0\n"
     ]
    }
   ],
   "source": [
    "for value in all_data.label.unique():\n",
    "    print(value)"
   ]
  },
  {
   "cell_type": "code",
   "execution_count": null,
   "metadata": {},
   "outputs": [],
   "source": []
  },
  {
   "cell_type": "code",
   "execution_count": 211,
   "metadata": {},
   "outputs": [],
   "source": [
    "all_data_0 = all_data[all_data.label==0]\n",
    "all_data_1 = all_data[all_data.label==1]\n",
    "all_data_2 = all_data[all_data.label==2]\n",
    "all_data_4 = all_data[all_data.label==4]\n",
    "all_data_5 = all_data[all_data.label==5]"
   ]
  },
  {
   "cell_type": "code",
   "execution_count": 212,
   "metadata": {},
   "outputs": [
    {
     "name": "stdout",
     "output_type": "stream",
     "text": [
      "Score transfer 0.319027822193796\n",
      "              precision    recall  f1-score   support\n",
      "\n",
      "         0.0       0.00      0.00      0.00      3597\n",
      "         1.0       0.32      1.00      0.48      4990\n",
      "         2.0       0.00      0.00      0.00      3506\n",
      "         4.0       0.00      0.00      0.00      2909\n",
      "         5.0       0.00      0.00      0.00       633\n",
      "\n",
      "   micro avg       0.32      0.32      0.32     15635\n",
      "   macro avg       0.06      0.20      0.10     15635\n",
      "weighted avg       0.10      0.32      0.15     15635\n",
      "\n"
     ]
    },
    {
     "name": "stderr",
     "output_type": "stream",
     "text": [
      "C:\\Users\\s7277028\\AppData\\Local\\Continuum\\anaconda3\\lib\\site-packages\\sklearn\\metrics\\classification.py:1143: UndefinedMetricWarning: Precision and F-score are ill-defined and being set to 0.0 in labels with no predicted samples.\n",
      "  'precision', 'predicted', average, warn_for)\n",
      "C:\\Users\\s7277028\\AppData\\Local\\Continuum\\anaconda3\\lib\\site-packages\\sklearn\\metrics\\classification.py:1143: UndefinedMetricWarning: Precision and F-score are ill-defined and being set to 0.0 in labels with no predicted samples.\n",
      "  'precision', 'predicted', average, warn_for)\n",
      "C:\\Users\\s7277028\\AppData\\Local\\Continuum\\anaconda3\\lib\\site-packages\\sklearn\\metrics\\classification.py:1143: UndefinedMetricWarning: Precision and F-score are ill-defined and being set to 0.0 in labels with no predicted samples.\n",
      "  'precision', 'predicted', average, warn_for)\n"
     ]
    }
   ],
   "source": [
    "all_classes = pd.DataFrame()\n",
    "for value in all_data.label.unique():\n",
    "    all_data_trials_1236 = all_data[all_data.trial.isin(['1','2','3','6'])]\n",
    "    all_data_trials_1236 = all_data_trials_1236[all_data_trials_1236.label == value]\n",
    "    all_data_trials_45 = all_data[all_data.trial.isin(['4','5'])]\n",
    "    all_data_trials_45 = all_data_trials_45[all_data_trials_45.label == value]\n",
    "    original_task_trials_1236 = all_data_trials_1236[lua_sensors]\n",
    "    transfer_task_trials_1236 = all_data_trials_1236[rua_sensors]\n",
    "    scaler.fit(original_task_trials_1236)\n",
    "    colunmns = original_task_trials_1236.columns\n",
    "    original_task_trials_1236 = scaler.transform(original_task_trials_1236)\n",
    "    original_task_trials_1236 = pd.DataFrame(original_task_trials_1236, columns=colunmns)\n",
    "    scaler.fit(transfer_task_trials_1236)\n",
    "    transfer_mean = scaler.mean_\n",
    "    transfer_std = scaler.scale_\n",
    "    for name_column, std, mean in zip(original_task_trials_1236.columns.values,transfer_std,transfer_mean):\n",
    "        serie = original_task_trials_1236[name_column]\n",
    "        serie = serie*std + mean\n",
    "        original_task_trials_1236[name_column] = serie\n",
    "\n",
    "    original_task_trials_1236.head()\n",
    "    all_classes = pd.concat([all_classes, original_task_trials_1236])\n",
    "\n",
    "all_data_trials_1236 = all_data[all_data.trial.isin(['1','2','3','6'])]\n",
    "all_data_trials_45 = all_data[all_data.trial.isin(['4','5'])]\n",
    "classifier.fit(all_classes, all_data_trials_1236['label'])\n",
    "X_test = all_data_trials_45[rua_sensors]\n",
    "y_test = all_data_trials_45['label']\n",
    "score = classifier.score(X_test, y_test)\n",
    "print(\"Score transfer\", score)\n",
    "y_pred = classifier.predict(X_test)\n",
    "print(classification_report(y_test, y_pred))"
   ]
  },
  {
   "cell_type": "code",
   "execution_count": 213,
   "metadata": {},
   "outputs": [
    {
     "data": {
      "text/plain": [
       "array([0., 1., 2., 5., 4.])"
      ]
     },
     "execution_count": 213,
     "metadata": {},
     "output_type": "execute_result"
    }
   ],
   "source": [
    "all_classes.label.unique()"
   ]
  },
  {
   "cell_type": "code",
   "execution_count": 214,
   "metadata": {},
   "outputs": [
    {
     "data": {
      "text/plain": [
       "42313"
      ]
     },
     "execution_count": 214,
     "metadata": {},
     "output_type": "execute_result"
    }
   ],
   "source": [
    "len(all_data_trials_1236['label'])"
   ]
  },
  {
   "cell_type": "code",
   "execution_count": 215,
   "metadata": {},
   "outputs": [
    {
     "data": {
      "text/plain": [
       "42313"
      ]
     },
     "execution_count": 215,
     "metadata": {},
     "output_type": "execute_result"
    }
   ],
   "source": [
    "len(all_classes)"
   ]
  },
  {
   "cell_type": "code",
   "execution_count": null,
   "metadata": {},
   "outputs": [],
   "source": []
  }
 ],
 "metadata": {
  "kernelspec": {
   "display_name": "Python 3",
   "language": "python",
   "name": "python3"
  },
  "language_info": {
   "codemirror_mode": {
    "name": "ipython",
    "version": 3
   },
   "file_extension": ".py",
   "mimetype": "text/x-python",
   "name": "python",
   "nbconvert_exporter": "python",
   "pygments_lexer": "ipython3",
   "version": "3.7.3"
  }
 },
 "nbformat": 4,
 "nbformat_minor": 2
}
